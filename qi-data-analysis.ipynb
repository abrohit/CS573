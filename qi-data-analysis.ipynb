{
 "cells": [
  {
   "cell_type": "code",
   "execution_count": 65,
   "metadata": {},
   "outputs": [],
   "source": [
    "import pandas as pd\n",
    "import numpy as np\n",
    "# from matplotlib import pyplot as plt\n",
    "# %matplotlib inline\n",
    "# import seaborn as sns\n",
    "\n",
    "from sklearn.linear_model import LogisticRegression\n",
    "from imblearn.over_sampling import SMOTE, RandomOverSampler\n"
   ]
  },
  {
   "cell_type": "markdown",
   "metadata": {},
   "source": [
    "# Data preparation"
   ]
  },
  {
   "cell_type": "code",
   "execution_count": 95,
   "metadata": {},
   "outputs": [
    {
     "name": "stdout",
     "output_type": "stream",
     "text": [
      "97\n",
      "95\n"
     ]
    }
   ],
   "source": [
    "def create_dataset(train_start_year=2019, train_end_year=2023, test_start_year=2024, test_end_year=2024):\n",
    "    \"\"\"\n",
    "    Create dataset used in paper\n",
    "    \"\"\"\n",
    "    races = pd.read_csv(\"database/races.csv\")\n",
    "    results = pd.read_csv(\"database/results.csv\")\n",
    "\n",
    "    # Get races within specified years\n",
    "    races = races[(races[\"year\"] >= min(train_start_year, test_start_year)) & (races[\"year\"] <= max(train_end_year, test_end_year))]\n",
    "    df = pd.merge(races, results, on=\"raceId\", how=\"inner\")\n",
    "    df[\"podium\"] = df[\"positionOrder\"].apply(lambda x: 1 if x <= 3 else 0)\n",
    "    df[\"win\"] = df[\"positionOrder\"].apply(lambda x: 1 if x == 1 else 0)\n",
    "\n",
    "    # Get the number of wins and podiums in the last 5 races for each driver\n",
    "    driver_win = {}\n",
    "    driver_podium = {}\n",
    "    for d in pd.unique(df[\"driverId\"]):\n",
    "        df_driver = df[(df[\"driverId\"] == d) & (df[\"year\"] <= train_end_year)].tail(5)\n",
    "        driver_win[d] = df_driver[\"win\"].sum()\n",
    "        driver_podium[d] = df_driver[\"podium\"].sum()\n",
    "\n",
    "    df[\"driver_win\"] = df[\"driverId\"].map(driver_win)\n",
    "    df[\"driver_podium\"] = df[\"driverId\"].map(driver_podium)\n",
    "    cols = [\"raceId\", \"year\", \"grid\", \"driver_win\", \"driver_podium\", \"circuitId\", \"win\"]\n",
    "    df = df[cols]\n",
    "\n",
    "    # One hot encoding of circuitId\n",
    "    df = pd.get_dummies(df, columns=['circuitId'], prefix='circuit', dtype=int)\n",
    "\n",
    "    # Split the dataset based on year\n",
    "    df_train = df[(df[\"year\"] >= train_start_year) & (df[\"year\"] <= train_end_year)].drop([\"year\"], axis=1)\n",
    "    df_test = df[(df[\"year\"] >= test_start_year) & (df[\"year\"] <= test_end_year)].drop([\"year\"], axis=1)\n",
    "\n",
    "    # Random oversample to make a balanced dataset\n",
    "    oversampler = SMOTE(sampling_strategy='auto', random_state=42)\n",
    "    # oversampler = RandomOverSampler(sampling_strategy='auto', random_state=42)\n",
    "    X = df_train.drop(columns=['win'])\n",
    "    y = df_train['win']\n",
    "    X_resampled, y_resampled = oversampler.fit_resample(X, y)\n",
    "    df_train = pd.concat([X_resampled, y_resampled], axis=1)\n",
    "\n",
    "    print(len(pd.unique(df_train[\"raceId\"])))\n",
    "    print(len(pd.unique(df_test[\"raceId\"])))\n",
    "    df_train.to_csv(\"database/qi_train.csv\", index=False)\n",
    "    df_test.to_csv(\"database/qi_test.csv\", index=False)\n",
    "\n",
    "\n",
    "create_dataset(2010, 2014, 2020, 2024)"
   ]
  },
  {
   "cell_type": "markdown",
   "metadata": {},
   "source": [
    "# Model training & testing"
   ]
  },
  {
   "cell_type": "code",
   "execution_count": 96,
   "metadata": {},
   "outputs": [
    {
     "name": "stdout",
     "output_type": "stream",
     "text": [
      "Correct: 37/95\n",
      "Accuracy: 0.3895\n"
     ]
    }
   ],
   "source": [
    "# Get data\n",
    "df_train = pd.read_csv(\"database/qi_train.csv\")\n",
    "df_test = pd.read_csv(\"database/qi_test.csv\")\n",
    "X_train = df_train.drop([\"raceId\", \"win\"], axis=1, inplace=False)\n",
    "y_train = df_train[\"win\"]\n",
    "\n",
    "# Train model\n",
    "model = LogisticRegression(max_iter=1000)\n",
    "model.fit(X_train, y_train)\n",
    "\n",
    "# Test model\n",
    "y_pred = []\n",
    "for ri in pd.unique(df_test[\"raceId\"]):\n",
    "    df_slice = df_test[df_test[\"raceId\"] == ri]\n",
    "    X_test = df_slice.drop([\"raceId\", \"win\"], axis=1, inplace=False)\n",
    "    logprobs = model.predict_log_proba(X_test)[:, 1]\n",
    "    y_pred.append(np.argmax(logprobs))\n",
    "\n",
    "print(f\"Correct: {y_pred.count(0)}/{len(y_pred)}\\nAccuracy: {y_pred.count(0)/len(y_pred):.4f}\")"
   ]
  },
  {
   "cell_type": "code",
   "execution_count": null,
   "metadata": {},
   "outputs": [],
   "source": []
  }
 ],
 "metadata": {
  "kernelspec": {
   "display_name": "cs573",
   "language": "python",
   "name": "python3"
  },
  "language_info": {
   "codemirror_mode": {
    "name": "ipython",
    "version": 3
   },
   "file_extension": ".py",
   "mimetype": "text/x-python",
   "name": "python",
   "nbconvert_exporter": "python",
   "pygments_lexer": "ipython3",
   "version": "3.10.14"
  }
 },
 "nbformat": 4,
 "nbformat_minor": 2
}
